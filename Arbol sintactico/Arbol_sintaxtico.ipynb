{
 "cells": [
  {
   "cell_type": "markdown",
   "id": "0d9ad3be",
   "metadata": {},
   "source": [
    "### 1\n",
    "\"Los aztecas hablan náhuatl.\"\n",
    "\n",
    "ORACIÓN\n",
    "├── SN (Sujeto)\n",
    "│   ├── Det → \"Los\"\n",
    "│   └── N → \"aztecas\"\n",
    "└── SV (Predicado)\n",
    "    ├── V → \"hablan\"\n",
    "    └── SN (Complemento Directo)\n",
    "        └── N → \"náhuatl\""
   ]
  },
  {
   "cell_type": "markdown",
   "id": "07cac465",
   "metadata": {},
   "source": [
    "### 2\n",
    "\"La dominación islámica disminuyó progresivamente.\"\n",
    "\n",
    "ORACIÓN\n",
    "├── SN (Sujeto)\n",
    "│   ├── Det → \"La\"\n",
    "│   ├── N → \"dominación\"\n",
    "│   └── SAdj\n",
    "│       └── Adj → \"islámica\"\n",
    "└── SV (Predicado)\n",
    "    ├── V → \"disminuyó\"\n",
    "    └── SAdv\n",
    "        └── Adv → \"progresivamente\""
   ]
  },
  {
   "cell_type": "markdown",
   "id": "800f01e1",
   "metadata": {},
   "source": [
    "### 3\n",
    "\"Los Reyes Católicos conquistaron Granada.\"\n",
    "\n",
    "ORACIÓN\n",
    "├── SN (Sujeto)\n",
    "│   ├── Det → \"Los\"\n",
    "│   ├── N → \"Reyes\"\n",
    "│   └── SAdj\n",
    "│       └── Adj → \"Católicos\"\n",
    "└── SV (Predicado)\n",
    "    ├── V → \"conquistaron\"\n",
    "    └── SN (Complemento Directo)\n",
    "        └── N → \"Granada\""
   ]
  },
  {
   "cell_type": "markdown",
   "id": "83256ab2",
   "metadata": {},
   "source": [
    "### 4\n",
    "\"El catalán es una lengua romance.\"\n",
    "\n",
    "ORACIÓN\n",
    "├── SN (Sujeto)\n",
    "│   ├── Det → \"El\"\n",
    "│   └── N → \"catalán\"\n",
    "└── SV (Predicado)\n",
    "    ├── V (copulativo) → \"es\"\n",
    "    └── SN (Atributo)\n",
    "        ├── Det → \"una\"\n",
    "        ├── N → \"lengua\"\n",
    "        └── Adj → \"romance\""
   ]
  },
  {
   "cell_type": "markdown",
   "id": "2e99f9e9",
   "metadata": {},
   "source": [
    "### 5 \n",
    "\"Los mayas resistieron la colonización española.\"\n",
    "\n",
    "ORACIÓN\n",
    "├── SN (Sujeto)\n",
    "│   ├── Det → \"Los\"\n",
    "│   └── N → \"mayas\"\n",
    "└── SV (Predicado)\n",
    "    ├── V → \"resistieron\"\n",
    "    └── SN (Complemento Directo)\n",
    "        ├── Det → \"la\"\n",
    "        ├── N → \"colonización\"\n",
    "        └── SAdj\n",
    "            └── Adj → \"española\""
   ]
  },
  {
   "cell_type": "markdown",
   "id": "74ccea7b",
   "metadata": {},
   "source": [
    "### 6\n",
    "\"Los sacerdotes evangelizaban a los indígenas.\"\n",
    "\n",
    "ORACIÓN\n",
    "├── SN (Sujeto)\n",
    "│   ├── Det → \"Los\"\n",
    "│   └── N → \"sacerdotes\"\n",
    "└── SV (Predicado)\n",
    "    ├── V → \"evangelizaban\"\n",
    "    └── SN (Complemento Directo)\n",
    "        ├── Prep → \"a\"\n",
    "        ├── Det → \"los\"\n",
    "        └── N → \"indígenas\""
   ]
  },
  {
   "cell_type": "markdown",
   "id": "aa1d0e68",
   "metadata": {},
   "source": [
    "### 7\n",
    "\"Las lenguas minoritarias de España han entrado en una nueva etapa.\"\n",
    "\n",
    "ORACIÓN\n",
    "├── SN (Sujeto)\n",
    "│   ├── Det → \"Los\"\n",
    "│   └── N → \"sacerdotes\"\n",
    "└── SV (Predicado)\n",
    "    ├── V → \"evangelizaban\"\n",
    "    └── SN (Complemento Directo)\n",
    "        ├── Prep → \"a\"\n",
    "        ├── Det → \"los\"\n",
    "        └── N → \"indígenas\""
   ]
  },
  {
   "cell_type": "markdown",
   "id": "44f21388",
   "metadata": {},
   "source": [
    "### 8\n",
    "\"El español es lengua oficial en diecinueve países de Latinoamérica.\"\n",
    "\n",
    "ORACIÓN\n",
    "├── SN (Sujeto)\n",
    "│   ├── Det → \"El\"\n",
    "│   └── N → \"español\"\n",
    "└── SV (Predicado)\n",
    "    ├── V (copulativo) → \"es\"\n",
    "    ├── SN (Atributo)\n",
    "    │   ├── N → \"lengua\"\n",
    "    │   └── Adj → \"oficial\"\n",
    "    └── SP (Complemento Circunstancial)\n",
    "        ├── Prep → \"en\"\n",
    "        └── SN\n",
    "            ├── Det → \"diecinueve\"\n",
    "            ├── N → \"países\"\n",
    "            └── SP\n",
    "                ├── Prep → \"de\"\n",
    "                └── N → \"Latinoamérica\""
   ]
  },
  {
   "cell_type": "markdown",
   "id": "e1cf3f37",
   "metadata": {},
   "source": [
    "### 9 \n",
    "\"El terreno de Paraguay representaba desafíos de envergadura para los\n",
    "españoles.\"\n",
    "\n",
    "ORACIÓN\n",
    "├── SN (Sujeto)\n",
    "│   ├── Det → \"El\"\n",
    "│   ├── N → \"terreno\"\n",
    "│   └── SP (Complemento del nombre)\n",
    "│       ├── Prep → \"de\"\n",
    "│       └── N → \"Paraguay\"\n",
    "└── SV (Predicado)\n",
    "    ├── V → \"representaba\"\n",
    "    ├── SN (Complemento directo)\n",
    "    │   ├── N → \"desafíos\"\n",
    "    │   └── SP (Complemento del nombre)\n",
    "    │       ├── Prep → \"de\"\n",
    "    │       └── N → \"envergadura\"\n",
    "    └── SP (Complemento indirecto o circunstancial)\n",
    "        ├── Prep → \"para\"\n",
    "        └── SN\n",
    "            ├── Det → \"los\"\n",
    "            └── N → \"españoles\""
   ]
  },
  {
   "cell_type": "markdown",
   "id": "2ead5773",
   "metadata": {},
   "source": [
    "### 10\n",
    "\"Los niños monolingües de desarrollo normal pasan por varias etapas.\"\n",
    "\n",
    "ORACIÓN\n",
    "├── SN (Sujeto)\n",
    "│   ├── Det → \"Los\"\n",
    "│   ├── N → \"niños\"\n",
    "│   ├── Adj → \"monolingües\"\n",
    "│   └── SP (Complemento del nombre)\n",
    "│       ├── Prep → \"de\"\n",
    "│       └── SN\n",
    "│           ├── N → \"desarrollo\"\n",
    "│           └── Adj → \"normal\"\n",
    "└── SV (Predicado)\n",
    "    ├── V → \"pasan\"\n",
    "    └── SP (Complemento circunstancial)\n",
    "        ├── Prep → \"por\"\n",
    "        └── SN\n",
    "            ├── Det → \"varias\"\n",
    "            └── N → \"etapas\""
   ]
  }
 ],
 "metadata": {
  "language_info": {
   "name": "python"
  }
 },
 "nbformat": 4,
 "nbformat_minor": 5
}
